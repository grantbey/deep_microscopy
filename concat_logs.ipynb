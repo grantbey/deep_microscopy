{
 "cells": [
  {
   "cell_type": "code",
   "execution_count": 1,
   "metadata": {
    "collapsed": true
   },
   "outputs": [],
   "source": [
    "import pandas as pd"
   ]
  },
  {
   "cell_type": "code",
   "execution_count": 23,
   "metadata": {
    "collapsed": false
   },
   "outputs": [],
   "source": [
    "run_37.index = range(run_36.index[-1]+1,run_36.index[-1]+run_37.shape[0]+1) #318"
   ]
  },
  {
   "cell_type": "code",
   "execution_count": 61,
   "metadata": {
    "collapsed": false
   },
   "outputs": [],
   "source": [
    "run_34 = pd.read_csv('./data/logs/training_log_run_34_nuclei.csv',index_col=0)"
   ]
  },
  {
   "cell_type": "code",
   "execution_count": 62,
   "metadata": {
    "collapsed": false,
    "scrolled": true
   },
   "outputs": [],
   "source": [
    "run_35 = pd.read_csv('./data/logs/training_log_run_35_nuclei.csv',index_col=0)"
   ]
  },
  {
   "cell_type": "code",
   "execution_count": 63,
   "metadata": {
    "collapsed": false
   },
   "outputs": [],
   "source": [
    "run_36 = pd.read_csv('./data/logs/training_log_run_36_nuclei.csv',index_col=0)"
   ]
  },
  {
   "cell_type": "code",
   "execution_count": 64,
   "metadata": {
    "collapsed": false
   },
   "outputs": [],
   "source": [
    "run_37 = pd.read_csv('./data/logs/training_log_run_37_nuclei.csv',index_col=0)"
   ]
  },
  {
   "cell_type": "code",
   "execution_count": 65,
   "metadata": {
    "collapsed": false
   },
   "outputs": [],
   "source": [
    "log = pd.concat([run_34,run_35,run_36,run_37])\n",
    "log.index.rename('epoch',inplace=True)\n",
    "log.to_csv('./data/logs/nuclei_34_35_36_37.csv')"
   ]
  },
  {
   "cell_type": "code",
   "execution_count": 55,
   "metadata": {
    "collapsed": true
   },
   "outputs": [],
   "source": [
    "import plotly.plotly as py\n",
    "import plotly.tools as tls\n",
    "import plotly.graph_objs as go"
   ]
  },
  {
   "cell_type": "code",
   "execution_count": 60,
   "metadata": {
    "collapsed": false
   },
   "outputs": [
    {
     "data": {
      "text/html": [
       "<iframe id=\"igraph\" scrolling=\"no\" style=\"border:none;\" seamless=\"seamless\" src=\"https://plot.ly/~grant2d2/28.embed\" height=\"525\" width=\"100%\"></iframe>"
      ],
      "text/plain": [
       "<plotly.tools.PlotlyDisplay object>"
      ]
     },
     "execution_count": 60,
     "metadata": {},
     "output_type": "execute_result"
    }
   ],
   "source": [
    "# Define traces\n",
    "loss = go.Scatter(x=log.index, y=log.loss, name='Loss', mode='lines+markers',yaxis='y', line=dict(shape='spline',smoothing=3))\n",
    "jaccard = go.Scatter(x=log.index, y=log.jaccard, name='Jaccard', mode='lines+markers',yaxis='y2', line=dict(shape='spline',smoothing=3))\n",
    "val_loss = go.Scatter(x=log.index, y=log.val_loss, name='Val Loss', mode='lines+markers',yaxis='y', line=dict(shape='spline',smoothing=3))\n",
    "val_jaccard = go.Scatter(x=log.index, y=log.val_jaccard, name='Val Jaccard', mode='lines+markers',yaxis='y2', line=dict(shape='spline',smoothing=3))\n",
    "\n",
    "# Define data and layout\n",
    "data = go.Data([loss, jaccard, val_loss, val_jaccard])\n",
    "layout = go.Layout(title='Loss/Jaccard for run 34, 35, 36 & 37',\n",
    "                   yaxis=dict(title='Loss',type='log',autorange=True,rangemode='tozero'),\n",
    "                   yaxis2=dict(title='Jaccard index',overlaying='y',side='right',range=[0,1]),\n",
    "                   xaxis=dict(title='Epoch'))\n",
    "\n",
    "# Generate plot\n",
    "plotly_fig = go.Figure(data=data, layout=layout)\n",
    "\n",
    "url = py.plot(plotly_fig, filename='training_run_34_35_36_37')\n",
    "tls.embed(url)"
   ]
  }
 ],
 "metadata": {
  "kernelspec": {
   "display_name": "Python 3",
   "language": "python",
   "name": "python3"
  },
  "language_info": {
   "codemirror_mode": {
    "name": "ipython",
    "version": 3
   },
   "file_extension": ".py",
   "mimetype": "text/x-python",
   "name": "python",
   "nbconvert_exporter": "python",
   "pygments_lexer": "ipython3",
   "version": "3.5.2"
  }
 },
 "nbformat": 4,
 "nbformat_minor": 2
}
